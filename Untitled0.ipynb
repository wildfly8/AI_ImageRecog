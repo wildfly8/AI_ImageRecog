{
  "nbformat": 4,
  "nbformat_minor": 0,
  "metadata": {
    "colab": {
      "provenance": [],
      "authorship_tag": "ABX9TyMtEgo9kWxcv/8lrXGwU7t5",
      "include_colab_link": true
    },
    "kernelspec": {
      "name": "python3",
      "display_name": "Python 3"
    },
    "language_info": {
      "name": "python"
    }
  },
  "cells": [
    {
      "cell_type": "markdown",
      "metadata": {
        "id": "view-in-github",
        "colab_type": "text"
      },
      "source": [
        "<a href=\"https://colab.research.google.com/github/wildfly8/AI_ImageRecog/blob/master/Untitled0.ipynb\" target=\"_parent\"><img src=\"https://colab.research.google.com/assets/colab-badge.svg\" alt=\"Open In Colab\"/></a>"
      ]
    },
    {
      "cell_type": "code",
      "execution_count": 33,
      "metadata": {
        "colab": {
          "base_uri": "https://localhost:8080/"
        },
        "id": "BxnJrqdaAnuT",
        "outputId": "5052969d-cef3-4968-a491-fc53b926d532"
      },
      "outputs": [
        {
          "output_type": "stream",
          "name": "stdout",
          "text": [
            "   tree_id  block_id  created_at  tree_dbh  stump_diam curb_loc status health  \\\n",
            "0   180683    348711  08/27/2015         3           0   OnCurb  Alive   Fair   \n",
            "1   200540    315986  09/03/2015        21           0   OnCurb  Alive   Fair   \n",
            "2   204026    218365  09/05/2015         3           0   OnCurb  Alive   Good   \n",
            "3   204337    217969  09/05/2015        10           0   OnCurb  Alive   Good   \n",
            "4   189565    223043  08/30/2015        21           0   OnCurb  Alive   Good   \n",
            "\n",
            "                            spc_latin       spc_common  ...  boro_ct  \\\n",
            "0                         Acer rubrum        red maple  ...  4073900   \n",
            "1                   Quercus palustris          pin oak  ...  4097300   \n",
            "2  Gleditsia triacanthos var. inermis      honeylocust  ...  3044900   \n",
            "3  Gleditsia triacanthos var. inermis      honeylocust  ...  3044900   \n",
            "4                     Tilia americana  American linden  ...  3016500   \n",
            "\n",
            "      state   latitude  longitude         x_sp         y_sp council district  \\\n",
            "0  New York  40.723092 -73.844215  1027431.148  202756.7687             29.0   \n",
            "1  New York  40.794111 -73.818679  1034455.701  228644.8374             19.0   \n",
            "2  New York  40.717581 -73.936608  1001822.831  200716.8913             34.0   \n",
            "3  New York  40.713537 -73.934456  1002420.358  199244.2531             34.0   \n",
            "4  New York  40.666778 -73.975979   990913.775  182202.4260             39.0   \n",
            "\n",
            "  census tract        bin           bbl  \n",
            "0        739.0  4052307.0  4.022210e+09  \n",
            "1        973.0  4101931.0  4.044750e+09  \n",
            "2        449.0  3338310.0  3.028870e+09  \n",
            "3        449.0  3338342.0  3.029250e+09  \n",
            "4        165.0  3025654.0  3.010850e+09  \n",
            "\n",
            "[5 rows x 45 columns]\n"
          ]
        }
      ],
      "source": [
        "import numpy as np\n",
        "import pandas as pd\n",
        "import matplotlib.pyplot as plt\n",
        "from scipy import stats\n",
        "\n",
        "# load the data into a pandas data frame\n",
        "tree_df = pd.read_csv('https://data.cityofnewyork.us/api/views/uvpi-gqnh/rows.csv?accessType=DOWNLOAD')\n",
        "\n",
        "# print the first few rows of the data frame\n",
        "print(tree_df.head())"
      ]
    },
    {
      "cell_type": "code",
      "source": [
        "# select rows where the 'stump_diam' column is NaN and the 'boroname' column is 'Manhattan'\n",
        "# and the 'latitude' column is less than or equal to 40.764204\n",
        "tree_no_stumps_lower_man_df = tree_df[(tree_df['stump_diam'] == 0) & (tree_df['borough'] == 'Manhattan') & (tree_df['latitude'] <= 40.764204)]\n",
        "\n",
        "# display the resulting data frame\n",
        "print(tree_no_stumps_lower_man_df)\n"
      ],
      "metadata": {
        "colab": {
          "base_uri": "https://localhost:8080/"
        },
        "id": "3WoCsBp-BiB0",
        "outputId": "6f30d5ce-06a9-41d0-855f-7a34fabacfcb"
      },
      "execution_count": 34,
      "outputs": [
        {
          "output_type": "stream",
          "name": "stdout",
          "text": [
            "        tree_id  block_id  created_at  tree_dbh  stump_diam curb_loc status  \\\n",
            "7        208649    103940  09/07/2015         9           0   OnCurb  Alive   \n",
            "28       201555    102919  09/04/2015         9           0   OnCurb  Alive   \n",
            "43       178382    106001  08/26/2015        12           0   OnCurb  Alive   \n",
            "46       191988    102326  08/31/2015         6           0   OnCurb  Alive   \n",
            "63       198121    104405  09/02/2015         8           0   OnCurb  Alive   \n",
            "...         ...       ...         ...       ...         ...      ...    ...   \n",
            "683750   194253    102855  09/01/2015         3           0   OnCurb  Alive   \n",
            "683756   208765    107164  09/08/2015        11           0   OnCurb  Alive   \n",
            "683764   170513    100329  08/24/2015         9           0   OnCurb  Alive   \n",
            "683773   191269    105425  08/31/2015        12           0   OnCurb  Alive   \n",
            "683775   192812    102227  08/31/2015         5           0   OnCurb  Alive   \n",
            "\n",
            "       health                           spc_latin        spc_common  ...  \\\n",
            "7        Good                     Tilia americana   American linden  ...   \n",
            "28       Good  Gleditsia triacanthos var. inermis       honeylocust  ...   \n",
            "43       Fair               Platanus x acerifolia  London planetree  ...   \n",
            "46       Good                     Quercus phellos        willow oak  ...   \n",
            "63       Fair                   Quercus palustris           pin oak  ...   \n",
            "...       ...                                 ...               ...  ...   \n",
            "683750   Good               Platanus x acerifolia  London planetree  ...   \n",
            "683756   Good  Gleditsia triacanthos var. inermis       honeylocust  ...   \n",
            "683764   Good  Gleditsia triacanthos var. inermis       honeylocust  ...   \n",
            "683773   Good                       Ginkgo biloba            ginkgo  ...   \n",
            "683775   Good                   Quercus palustris           pin oak  ...   \n",
            "\n",
            "        boro_ct     state   latitude  longitude         x_sp         y_sp  \\\n",
            "7       1012700  New York  40.762724 -73.987297  987769.1163  217157.8561   \n",
            "28      1003601  New York  40.721807 -73.989830  987069.0888  202250.6142   \n",
            "43      1006000  New York  40.733716 -73.977058  990608.2583  206590.1223   \n",
            "46      1004900  New York  40.726640 -73.999368  984425.0721  204010.9460   \n",
            "63      1007200  New York  40.745034 -73.982530  989090.7833  210713.0940   \n",
            "...         ...       ...        ...        ...          ...          ...   \n",
            "683750  1002201  New York  40.720014 -73.982586  989077.1691  201597.7015   \n",
            "683756  1011000  New York  40.763224 -73.960984  995058.2162  217342.1992   \n",
            "683764  1031704  New York  40.707884 -74.017598  979370.9566  197178.3833   \n",
            "683773  1006800  New York  40.739270 -73.983960  988694.9580  208613.1475   \n",
            "683775  1007700  New York  40.739913 -74.004892  982894.2232  208847.0571   \n",
            "\n",
            "       council district census tract        bin           bbl  \n",
            "7                   3.0        133.0  1086093.0  1.010410e+09  \n",
            "28                  1.0       3601.0  1077637.0  1.004160e+09  \n",
            "43                  4.0         44.0  1082859.0  1.009720e+09  \n",
            "46                  1.0         49.0  1008011.0  1.005150e+09  \n",
            "63                  2.0         72.0  1018347.0  1.008860e+09  \n",
            "...                 ...          ...        ...           ...  \n",
            "683750              2.0       2201.0  1000000.0  1.003458e+09  \n",
            "683756              5.0        118.0  1044692.0  1.014390e+09  \n",
            "683764              1.0      31704.0  1075698.0  1.000168e+09  \n",
            "683773              2.0         68.0  1018045.0  1.008790e+09  \n",
            "683775              3.0         77.0  1011692.0  1.006298e+09  \n",
            "\n",
            "[23508 rows x 45 columns]\n"
          ]
        }
      ]
    },
    {
      "cell_type": "code",
      "source": [
        "num_trees = len(tree_no_stumps_lower_man_df)\n",
        "print(num_trees)"
      ],
      "metadata": {
        "colab": {
          "base_uri": "https://localhost:8080/"
        },
        "id": "sYMKkh6cHAe7",
        "outputId": "21d7bb4c-a11a-4ff4-94bd-316a9d11d147"
      },
      "execution_count": 35,
      "outputs": [
        {
          "output_type": "stream",
          "name": "stdout",
          "text": [
            "23508\n"
          ]
        }
      ]
    },
    {
      "cell_type": "code",
      "source": [
        "# Create a subset of non-stump trees in lower Manhattan\n",
        "lower_man_trees = tree_no_stumps_lower_man_df['tree_dbh']\n",
        "\n",
        "# Take a random sample of size 500\n",
        "my_sample = np.random.choice(lower_man_trees, size=500, replace=False)\n",
        "\n",
        "# Calculate the sample mean\n",
        "sample_mean = np.mean(my_sample)\n",
        "\n",
        "# Calculate the sample standard deviation using numpy's std function with ddof=1 for Bessel's correction\n",
        "sample_std = np.std(my_sample, ddof=1)\n",
        "\n",
        "# Print out the results\n",
        "print(\"Sample Mean: \", sample_mean)\n",
        "print(\"Sample Standard Deviation: \", sample_std)\n"
      ],
      "metadata": {
        "colab": {
          "base_uri": "https://localhost:8080/"
        },
        "id": "mi9_5x3XH7P8",
        "outputId": "488f5b46-ab25-470f-d1b8-d10a16139557"
      },
      "execution_count": 39,
      "outputs": [
        {
          "output_type": "stream",
          "name": "stdout",
          "text": [
            "Sample Mean:  8.228\n",
            "Sample Standard Deviation:  4.348544086397502\n"
          ]
        }
      ]
    },
    {
      "cell_type": "code",
      "source": [
        "CI_level = 0.90 # this will be a 90% confidence interval\n",
        "n=500\n",
        "df = n - 1\n",
        "alpha = 1 - CI_level\n",
        "alpha_2 = alpha / 2"
      ],
      "metadata": {
        "id": "vDguIzoILTcQ"
      },
      "execution_count": 40,
      "outputs": []
    },
    {
      "cell_type": "code",
      "source": [
        "t_alpha_2 = stats.t.interval(1 - alpha, df, 0, 1)[1]\n",
        "print(t_alpha_2)"
      ],
      "metadata": {
        "colab": {
          "base_uri": "https://localhost:8080/"
        },
        "id": "WL01zYT5QSNY",
        "outputId": "3112c3f3-5a1b-4690-f9fb-daf8b8658b8c"
      },
      "execution_count": 49,
      "outputs": [
        {
          "output_type": "stream",
          "name": "stdout",
          "text": [
            "1.647912984059706\n"
          ]
        }
      ]
    },
    {
      "cell_type": "code",
      "source": [
        "print(round(stats.t.cdf(-t_alpha_2, df), 2) == round(alpha_2, 2))"
      ],
      "metadata": {
        "colab": {
          "base_uri": "https://localhost:8080/"
        },
        "id": "LLY9srRpRxAj",
        "outputId": "042ab15f-b80a-45c7-a2dc-a64a0953c890"
      },
      "execution_count": 57,
      "outputs": [
        {
          "output_type": "stream",
          "name": "stdout",
          "text": [
            "True\n"
          ]
        }
      ]
    },
    {
      "cell_type": "code",
      "source": [
        "lower_bound = sample_mean - t_alpha_2 * (sample_std / np.sqrt(n))\n",
        "upper_bound = sample_mean + t_alpha_2 * (sample_std / np.sqrt(n))\n",
        "print(f\"The {CI_level * 100}% confidence interval on the population mean is ({lower_bound}, {upper_bound}).\")"
      ],
      "metadata": {
        "colab": {
          "base_uri": "https://localhost:8080/"
        },
        "id": "r6_-0g2FTcki",
        "outputId": "c2f93cb9-ab4b-4e00-9640-f27698207ae8"
      },
      "execution_count": 64,
      "outputs": [
        {
          "output_type": "stream",
          "name": "stdout",
          "text": [
            "The 90.0% confidence interval on the population mean is (7.907525741889876, 8.548474258110124).\n"
          ]
        }
      ]
    },
    {
      "cell_type": "code",
      "source": [
        "print(stats.t.interval(CI_level, n - 1, sample_mean, sample_std / np.sqrt(n)))"
      ],
      "metadata": {
        "colab": {
          "base_uri": "https://localhost:8080/"
        },
        "id": "Rxf3feHnUJKN",
        "outputId": "6e5153b7-a27f-40ee-bd78-a87e0a0ab9c0"
      },
      "execution_count": 65,
      "outputs": [
        {
          "output_type": "stream",
          "name": "stdout",
          "text": [
            "(7.907525741889876, 8.548474258110124)\n"
          ]
        }
      ]
    },
    {
      "cell_type": "code",
      "source": [
        "pop_mean = np.mean(lower_man_trees)\n",
        "print(pop_mean)"
      ],
      "metadata": {
        "colab": {
          "base_uri": "https://localhost:8080/"
        },
        "id": "mx0sLk6FUXM2",
        "outputId": "cd992362-dd90-4128-d5fc-6f3bff0a0dd5"
      },
      "execution_count": 72,
      "outputs": [
        {
          "output_type": "stream",
          "name": "stdout",
          "text": [
            "8.119874085417731\n"
          ]
        }
      ]
    }
  ]
}